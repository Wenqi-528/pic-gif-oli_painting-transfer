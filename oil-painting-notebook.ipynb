{
 "cells": [
  {
   "cell_type": "code",
   "execution_count": 20,
   "metadata": {
    "collapsed": false
   },
   "outputs": [
   ],
   "source": [
    "import math\n",
    "import shutil\n",
    "import random\n",
    "import argparse\n",
    "import numpy as np\n",
    "import cv2, imageio\n",
    "import os, subprocess\n",
    "from _gradient import get_gradient\n",
    "import time"
   ]
  },
  {
   "cell_type": "markdown",
   "metadata": {
    "collapsed": false
   },
   "source": [
    "#### Image gradients are a fundamental building block of many computer vision and image processing routines.\n",
    "##### -We use gradients for detecting edges in images, which allows us to find contours and outlines of objects in images\n",
    "##### -We use them as inputs for quantifying images through feature extraction\n"
   ]
  },
  {
   "cell_type": "code",
   "execution_count": 0,
   "metadata": {
    "collapsed": false
   },
   "outputs": [
   ],
   "source": [
   ]
  },
  {
   "cell_type": "markdown",
   "metadata": {
    "collapsed": false
   },
   "source": [
    "\n",
    "#### Let's first disrupt the order of coloring"
   ]
  },
  {
   "cell_type": "code",
   "execution_count": 21,
   "metadata": {
    "collapsed": false
   },
   "outputs": [
   ],
   "source": [
    "def draw_order(h, w, scale):\n",
    "    order = []\n",
    "    for i in range(0, h, scale):\n",
    "        for j in range(0, w, scale):\n",
    "            y = random.randint(-scale // 2, scale // 2) + i\n",
    "            x = random.randint(-scale // 2, scale // 2) + j\n",
    "            order.append((y % h, x % w))\n",
    "    return order\n"
   ]
  },
  {
   "cell_type": "code",
   "execution_count": 34,
   "metadata": {
    "collapsed": false
   },
   "outputs": [
   ],
   "source": [
    "#Parameter you can choose from \n",
    "brush_width=2 #The size of the brush\n",
    "path='lake.jpeg' #The path of the picss\n",
    "gradient='sobel' # The type of the artstyle you want to choose\n"
   ]
  },
  {
   "cell_type": "markdown",
   "metadata": {
    "collapsed": false
   },
   "source": [
    "## First Let's transfer pictures into numpy arrays"
   ]
  },
  {
   "cell_type": "code",
   "execution_count": 35,
   "metadata": {
    "collapsed": false
   },
   "outputs": [
   ],
   "source": [
    "img_path = path.rsplit(\".\", -1) "
   ]
  },
  {
   "cell_type": "code",
   "execution_count": 23,
   "metadata": {
    "collapsed": false
   },
   "outputs": [
   ],
   "source": [
    "img = cv2.imread(path)"
   ]
  },
  {
   "cell_type": "code",
   "execution_count": 24,
   "metadata": {
    "collapsed": false
   },
   "outputs": [
    {
     "data": {
      "text/plain": [
       "(1050, 1680, 3)"
      ]
     },
     "execution_count": 24,
     "metadata": {
     },
     "output_type": "execute_result"
    }
   ],
   "source": [
    "img.shape \n",
    "#1050 rows,1680 columns and 3 RGB colors inside"
   ]
  },
  {
   "cell_type": "markdown",
   "metadata": {
    "collapsed": false
   },
   "source": [
    "#### the main application of image gradients lies within edge detection.\n",
    "##### edge detection is the process of finding edges in an image, which reveals structural information regarding the objects in an image."
   ]
  },
  {
   "cell_type": "code",
   "execution_count": 25,
   "metadata": {
    "collapsed": false
   },
   "outputs": [
   ],
   "source": [
    "r = 2 * int(img.shape[0] / 50) + 1\n",
    "Gx, Gy = get_gradient(cv2.cvtColor(img, cv2.COLOR_BGR2GRAY), (r, r), gradient)\n"
   ]
  },
  {
   "cell_type": "markdown",
   "metadata": {
    "collapsed": false
   },
   "source": [
    "#### Based on the edge dection, we can draw the ellipse as the brush"
   ]
  },
  {
   "cell_type": "code",
   "execution_count": 26,
   "metadata": {
    "collapsed": false
   },
   "outputs": [
   ],
   "source": [
    "Gh = np.sqrt(np.sqrt(np.square(Gx) + np.square(Gy)))    # Length of the ellipse\n",
    "Ga = (np.arctan2(Gy, Gx) / np.pi) * 180 + 90            # Angle of the ellipse\n"
   ]
  },
  {
   "cell_type": "markdown",
   "metadata": {
    "collapsed": false
   },
   "source": [
    "#### First we can blur thee images and make it more artlistic"
   ]
  },
  {
   "cell_type": "code",
   "execution_count": 27,
   "metadata": {
    "collapsed": false
   },
   "outputs": [
   ],
   "source": [
    "canvas = cv2.medianBlur(img, 11)    # Make the image artlistic\n",
    "result=[]"
   ]
  },
  {
   "cell_type": "code",
   "execution_count": 28,
   "metadata": {
    "collapsed": false
   },
   "outputs": [
    {
     "name": "stderr",
     "output_type": "stream",
     "text": [
      "<ipython-input-28-f909b52cd348>:2: DeprecationWarning: `np.float` is a deprecated alias for the builtin `float`. To silence this warning, use `float` by itself. Doing this will not modify any behavior and is safe. If you specifically wanted the numpy scalar type, use `np.float64` here.\n",
      "Deprecated in NumPy 1.20; for more details and guidance: https://numpy.org/devdocs/release/1.20.0-notes.html#deprecations\n",
      "  colors = np.array(img, dtype=np.float)\n"
     ]
    }
   ],
   "source": [
    "order = draw_order(img.shape[0], img.shape[1], scale=brush_width*2)\n",
    "colors = np.array(img, dtype=np.float)"
   ]
  },
  {
   "cell_type": "code",
   "execution_count": 10,
   "metadata": {
    "collapsed": false
   },
   "outputs": [
   ],
   "source": [
    "#### "
   ]
  },
  {
   "cell_type": "code",
   "execution_count": 29,
   "metadata": {
    "collapsed": false
   },
   "outputs": [
   ],
   "source": [
    "for i, (y, x) in enumerate(order):\n",
    "    length = int(round(brush_width + brush_width * Gh[y, x]))\n",
    "    color = colors[y,x]\n",
    "    cv2.ellipse(canvas, (x, y), (length, brush_width), Ga[y, x], 0, 360, color, -1, cv2.LINE_AA)\n",
    "\n",
    "result.append(canvas)"
   ]
  },
  {
   "cell_type": "code",
   "execution_count": 30,
   "metadata": {
    "collapsed": false
   },
   "outputs": [
    {
     "data": {
      "text/plain": [
       "array([[[192, 109,  48],\n",
       "        [192, 109,  48],\n",
       "        [192, 109,  48],\n",
       "        ...,\n",
       "        [196, 165, 132],\n",
       "        [196, 165, 132],\n",
       "        [196, 165, 132]],\n",
       "\n",
       "       [[192, 109,  48],\n",
       "        [192, 109,  48],\n",
       "        [194, 111,  50],\n",
       "        ...,\n",
       "        [196, 165, 134],\n",
       "        [196, 165, 132],\n",
       "        [196, 165, 132]],\n",
       "\n",
       "       [[193, 110,  49],\n",
       "        [193, 110,  49],\n",
       "        [194, 111,  50],\n",
       "        ...,\n",
       "        [196, 167, 136],\n",
       "        [196, 167, 136],\n",
       "        [196, 165, 132]],\n",
       "\n",
       "       ...,\n",
       "\n",
       "       [[ 92,  82,  65],\n",
       "        [ 92,  82,  65],\n",
       "        [ 92,  82,  65],\n",
       "        ...,\n",
       "        [ 85,  75,  65],\n",
       "        [ 85,  75,  65],\n",
       "        [ 85,  75,  65]],\n",
       "\n",
       "       [[ 92,  82,  65],\n",
       "        [ 92,  82,  65],\n",
       "        [ 92,  82,  65],\n",
       "        ...,\n",
       "        [ 85,  75,  65],\n",
       "        [ 85,  75,  65],\n",
       "        [ 85,  75,  65]],\n",
       "\n",
       "       [[ 92,  82,  65],\n",
       "        [ 92,  82,  65],\n",
       "        [ 92,  82,  65],\n",
       "        ...,\n",
       "        [ 85,  75,  65],\n",
       "        [ 85,  75,  65],\n",
       "        [ 85,  75,  65]]], dtype=uint8)"
      ]
     },
     "execution_count": 30,
     "metadata": {
     },
     "output_type": "execute_result"
    }
   ],
   "source": [
    "result[0]"
   ]
  },
  {
   "cell_type": "code",
   "execution_count": 37,
   "metadata": {
    "collapsed": false
   },
   "outputs": [
    {
     "name": "stdout",
     "output_type": "stream",
     "text": [
      "\n",
      "Output the result\n",
      "lake_result.jpeg\n"
     ]
    }
   ],
   "source": [
    "print(\"\\nOutput the result\")\n",
    "output_path = img_path[0]+'_result.'+img_path[1]\n",
    "print(output_path)\n",
    "if img_path[1] == 'gif':\n",
    "    c, images = 0, []\n",
    "    for canva in result:\n",
    "        cv2.imwrite(img_path[0]+'/r-'+str(c)+'.jpg', canva); c += 1\n",
    "    for i in range(c-1): images.append(imageio.imread(img_path[0]+'/r-'+str(i)+'.jpg'))\n",
    "    from PIL import Image\n",
    "    imageio.mimsave(output_path, images, duration=float(Image.open(args.path).info['duration']) / 1000)\n",
    "    shutil.rmtree(img_path[0], ignore_errors=True)\n",
    "else:\n",
    "    cv2.imwrite(output_path, result[0])"
   ]
  },
  {
   "cell_type": "code",
   "execution_count": 0,
   "metadata": {
    "collapsed": false
   },
   "outputs": [
   ],
   "source": [
   ]
  },
  {
   "cell_type": "code",
   "execution_count": 0,
   "metadata": {
    "collapsed": false
   },
   "outputs": [
   ],
   "source": [
   ]
  },
  {
   "cell_type": "code",
   "execution_count": 0,
   "metadata": {
    "collapsed": false
   },
   "outputs": [
   ],
   "source": [
   ]
  }
 ],
 "metadata": {
  "kernelspec": {
   "display_name": "“envcv”",
   "language": "python",
   "name": "myenv",
   "resource_dir": "/projects/bbdc6987-2c58-41c7-a407-18f0c165980e/.local/share/jupyter/kernels/myenv"
  },
  "language_info": {
   "codemirror_mode": {
    "name": "ipython",
    "version": 3
   },
   "file_extension": ".py",
   "mimetype": "text/x-python",
   "name": "python",
   "nbconvert_exporter": "python",
   "pygments_lexer": "ipython3",
   "version": "3.8.10"
  }
 },
 "nbformat": 4,
 "nbformat_minor": 4
}